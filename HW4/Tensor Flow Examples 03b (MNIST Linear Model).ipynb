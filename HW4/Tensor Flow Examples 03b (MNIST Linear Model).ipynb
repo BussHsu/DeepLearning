{
 "cells": [
  {
   "cell_type": "code",
   "execution_count": 1,
   "metadata": {},
   "outputs": [
    {
     "name": "stdout",
     "output_type": "stream",
     "text": [
      "Extracting ./data/train-images-idx3-ubyte.gz\n",
      "Extracting ./data/train-labels-idx1-ubyte.gz\n",
      "Extracting ./data/t10k-images-idx3-ubyte.gz\n",
      "Extracting ./data/t10k-labels-idx1-ubyte.gz\n",
      "Train data shape:  (55000, 784)\n",
      "Train labels shape:  (55000,)\n",
      "Test data shape:  (10000, 784)\n",
      "Test labels shape:  (10000,)\n"
     ]
    }
   ],
   "source": [
    "# To support both python 2 and python 3\n",
    "from __future__ import division, print_function, unicode_literals\n",
    "\n",
    "# Common imports\n",
    "import numpy as np\n",
    "import os\n",
    "import tensorflow as tf\n",
    "import numpy as np\n",
    "\n",
    "# to make this notebook's output stable across runs\n",
    "def reset_graph(seed=42):\n",
    "    tf.reset_default_graph()\n",
    "    tf.set_random_seed(seed)\n",
    "    np.random.seed(seed)\n",
    "\n",
    "# To plot pretty figures\n",
    "%matplotlib inline\n",
    "import matplotlib\n",
    "import matplotlib.pyplot as plt\n",
    "plt.rcParams['axes.labelsize'] = 14\n",
    "plt.rcParams['xtick.labelsize'] = 12\n",
    "plt.rcParams['ytick.labelsize'] = 12\n",
    "\n",
    "# Where to save the figures\n",
    "PROJECT_ROOT_DIR = \".\"\n",
    "CHAPTER_ID = \"ann\"\n",
    "\n",
    "def save_fig(fig_id, tight_layout=True):\n",
    "    path = os.path.join(PROJECT_ROOT_DIR, \"images\", CHAPTER_ID, fig_id + \".png\")\n",
    "    print(\"Saving figure\", fig_id)\n",
    "    if tight_layout:\n",
    "        plt.tight_layout()\n",
    "    plt.savefig(path, format='png', dpi=300)\n",
    "\n",
    "from tensorflow.examples.tutorials.mnist import input_data\n",
    "mnist = input_data.read_data_sets(\"./data/\")\n",
    "\n",
    "X_train = mnist.train.images\n",
    "X_test = mnist.test.images\n",
    "y_train = mnist.train.labels.astype(\"int\")\n",
    "y_test = mnist.test.labels.astype(\"int\")\n",
    "\n",
    "print ('Train data shape: ', X_train.shape)\n",
    "print ('Train labels shape: ', y_train.shape)\n",
    "print ('Test data shape: ', X_test.shape)\n",
    "print ('Test labels shape: ', y_test.shape)\n",
    "\n",
    "n_inputs = 28*28  # MNIST\n",
    "n_outputs = 10"
   ]
  },
  {
   "cell_type": "code",
   "execution_count": 3,
   "metadata": {},
   "outputs": [
    {
     "name": "stdout",
     "output_type": "stream",
     "text": [
      "1718\n",
      "859\n",
      "429\n",
      "1718\n",
      "859\n",
      "429\n",
      "1718\n",
      "859\n",
      "429\n",
      "1718\n",
      "859\n",
      "429\n",
      "1718\n",
      "859\n",
      "429\n",
      "1718\n",
      "859\n",
      "429\n"
     ]
    }
   ],
   "source": [
    "logdir = './output'\n",
    "file_writer = tf.summary.FileWriter(logdir, tf.get_default_graph())\n",
    "for learning_rate in [10e-5, 10e-4, 10e-3, 10e-2, 10e-1, 1]:\n",
    "    for batch_size in [32,64,128]:\n",
    "        reset_graph()\n",
    "\n",
    "        #X = tf.placeholder(tf.float32, shape=(None, n_inputs), name=\"X\")\n",
    "        #y = tf.placeholder(tf.int64, shape=(None), name=\"y\") \n",
    "\n",
    "        X = tf.placeholder(tf.float32, [None, n_inputs])\n",
    "        y = tf.placeholder(tf.int64, [None])\n",
    "\n",
    "        W = tf.Variable(tf.zeros([n_inputs, n_outputs]))\n",
    "        b = tf.Variable(tf.zeros([n_outputs]))\n",
    "\n",
    "        with tf.name_scope(\"dnn\"):\n",
    "            #logits = tf.layers.dense(hidden2, n_outputs, name=\"outputs\")\n",
    "            logits = tf.nn.softmax(tf.matmul(X, W) + b)\n",
    "\n",
    "        with tf.name_scope(\"loss\"):\n",
    "            xentropy = tf.nn.sparse_softmax_cross_entropy_with_logits(labels=y, logits=logits)\n",
    "            loss = tf.reduce_mean(xentropy, name=\"loss\")\n",
    "\n",
    "#         learning_rate = 0.01\n",
    "\n",
    "        with tf.name_scope(\"train\"):\n",
    "            optimizer = tf.train.GradientDescentOptimizer(learning_rate)\n",
    "            training_op = optimizer.minimize(loss)\n",
    "\n",
    "        with tf.name_scope(\"eval\"):\n",
    "            correct = tf.nn.in_top_k(logits, y, 1)\n",
    "            accuracy = tf.reduce_mean(tf.cast(correct, tf.float32))\n",
    "        with tf.name_scope(\"TrainAccuracy\"):\n",
    "            train_e_summary = tf.summary.scalar('lr_%.5f_B_%d'%(learning_rate,batch_size), accuracy)\n",
    "        with tf.name_scope(\"TestAccuracy\"):\n",
    "            test_e_summary = tf.summary.scalar('lr_%.5f_B_%d'%(learning_rate,batch_size), accuracy)\n",
    "        with tf.name_scope(\"Loss\"):\n",
    "            loss_summary = tf.summary.scalar('lr_%.5f_B_%d'%(learning_rate,batch_size), loss)\n",
    "\n",
    "\n",
    "        init = tf.global_variables_initializer()\n",
    "#         saver = tf.train.Saver()\n",
    "        \n",
    "\n",
    "        n_epochs = 20\n",
    "        n_batches = mnist.train.num_examples // batch_size\n",
    "        print(n_batches)\n",
    "\n",
    "        with tf.Session() as sess:\n",
    "            init.run()\n",
    "            for epoch in range(n_epochs):\n",
    "\n",
    "                for iteration in range(n_batches):\n",
    "                    X_batch, y_batch = mnist.train.next_batch(batch_size)\n",
    "                    sess.run(training_op, feed_dict={X: X_batch, y: y_batch})\n",
    "\n",
    "                    # training error every batch\n",
    "                    summary_str = train_e_summary.eval(feed_dict={X: X_batch, y: y_batch})\n",
    "                    step = epoch * n_batches + iteration\n",
    "                    file_writer.add_summary(summary_str, step)\n",
    "\n",
    "                # test error and loss every epoch\n",
    "        #         acc_train = accuracy.eval(feed_dict={X: X_batch, y: y_batch})\n",
    "        #         epoch_loss = loss.eval(feed_dict={X: mnist.train.images, y: mnist.train.labels})\n",
    "        #         acc_test = accuracy.eval(feed_dict={X: mnist.test.images, y: mnist.test.labels})\n",
    "                summary_str = test_e_summary.eval(feed_dict={X: mnist.test.images, y: mnist.test.labels})\n",
    "                summary_str2 = loss_summary.eval(feed_dict={X: mnist.train.images, y: mnist.train.labels})\n",
    "                step = epoch\n",
    "\n",
    "                file_writer.add_summary(summary_str, step)\n",
    "                file_writer.add_summary(summary_str2, step)\n",
    "        #         print(epoch, \"Train accuracy:\", acc_train, \"Test accuracy:\", acc_test, \"Avg Loss:\", epoch_loss)\n",
    "\n",
    "        #     save_path = saver.save(sess, \"./my_model_final.ckpt\")\n",
    "        #     tf.merge_all_summaries() \n",
    "file_writer.close()"
   ]
  },
  {
   "cell_type": "code",
   "execution_count": 13,
   "metadata": {},
   "outputs": [
    {
     "ename": "NameError",
     "evalue": "name 'show_graph' is not defined",
     "output_type": "error",
     "traceback": [
      "\u001b[0;31m---------------------------------------------------------------------------\u001b[0m",
      "\u001b[0;31mNameError\u001b[0m                                 Traceback (most recent call last)",
      "\u001b[0;32m<ipython-input-13-c6cc149fa4a7>\u001b[0m in \u001b[0;36m<module>\u001b[0;34m()\u001b[0m\n\u001b[0;32m----> 1\u001b[0;31m \u001b[0mshow_graph\u001b[0m\u001b[0;34m(\u001b[0m\u001b[0mtf\u001b[0m\u001b[0;34m.\u001b[0m\u001b[0mget_default_graph\u001b[0m\u001b[0;34m(\u001b[0m\u001b[0;34m)\u001b[0m\u001b[0;34m)\u001b[0m\u001b[0;34m\u001b[0m\u001b[0m\n\u001b[0m",
      "\u001b[0;31mNameError\u001b[0m: name 'show_graph' is not defined"
     ]
    }
   ],
   "source": [
    "show_graph(tf.get_default_graph())"
   ]
  },
  {
   "cell_type": "code",
   "execution_count": null,
   "metadata": {
    "collapsed": true
   },
   "outputs": [],
   "source": []
  }
 ],
 "metadata": {
  "kernelspec": {
   "display_name": "Python 3",
   "language": "python",
   "name": "python3"
  },
  "language_info": {
   "codemirror_mode": {
    "name": "ipython",
    "version": 3
   },
   "file_extension": ".py",
   "mimetype": "text/x-python",
   "name": "python",
   "nbconvert_exporter": "python",
   "pygments_lexer": "ipython3",
   "version": "3.6.1"
  },
  "nav_menu": {
   "height": "264px",
   "width": "369px"
  },
  "toc": {
   "navigate_menu": true,
   "number_sections": true,
   "sideBar": true,
   "threshold": 6,
   "toc_cell": false,
   "toc_section_display": "block",
   "toc_window_display": false
  }
 },
 "nbformat": 4,
 "nbformat_minor": 1
}
